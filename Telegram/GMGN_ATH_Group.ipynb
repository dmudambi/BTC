{
 "cells": [
  {
   "cell_type": "code",
   "execution_count": 46,
   "metadata": {},
   "outputs": [
    {
     "name": "stdout",
     "output_type": "stream",
     "text": [
      "True\n"
     ]
    }
   ],
   "source": [
    "from telethon import TelegramClient\n",
    "import pandas as pd\n",
    "import json \n",
    "from pathlib import Path\n",
    "import json\n",
    "import os\n",
    "from dotenv import load_dotenv\n",
    "import asyncio\n",
    "from asyncio import TimeoutError\n",
    "from pprint import pprint\n",
    "print(load_dotenv())\n",
    "api_id = os.getenv(\"TELEGRAM_API_ID\")\n",
    "api_hash = os.getenv(\"TELEGRAM_API_HASH\")\n",
    "phone_num = os.getenv(\"PHONE_NUM\")\n",
    "session_name = \"GMGN_ATH_Group\"\n",
    "from telethon.errors import ChatAdminRequiredError, ChannelPrivateError\n",
    "from telethon.sessions import MemorySession\n",
    "from telethon.sessions import StringSession"
   ]
  },
  {
   "cell_type": "code",
   "execution_count": 34,
   "metadata": {},
   "outputs": [
    {
     "name": "stdout",
     "output_type": "stream",
     "text": [
      "Signed in successfully as DM; remember to not break the ToS or you will risk an account ban!\n"
     ]
    },
    {
     "data": {
      "text/plain": [
       "'1AZWarzoBu54TBSwZO5G82HI7rcVnrU_7d2t-NgAoDmNFJ3MHfjRDwDAvGmryPSSOVoqxo8kOAf7lzwzEx3XEywdSxD3tJSHLgJDYBu4I_5uolLZcJT-RtrjyV3PG_HATa2BVOinrTfAqOAvDHN-c1qtMGrhRskklJty-dEONkkp8vwGhgLdSejO_aiVsfDIRN-OIAo57JGXKncB3_XSuYtipiTp6QLa9SNyjwmTD6igJIs0i6uCgLoqDE2oXKrxMASiVocOmLAWVNbDwZFGrANvPwHX26MuQ1DQjMwtibKyGmIvH39r5QJcYteuA8GWJX9D0-eF7U1g1sg5uMiBZKP_LOI1hG3s='"
      ]
     },
     "execution_count": 34,
     "metadata": {},
     "output_type": "execute_result"
    }
   ],
   "source": [
    "# Add this function to save the session string\n",
    "async def save_session():\n",
    "    client = TelegramClient(StringSession(), api_id, api_hash)\n",
    "    await client.start()\n",
    "    session_string = client.session.save()\n",
    "    with open('session.txt', 'w') as f:\n",
    "        f.write(session_string)\n",
    "    await client.disconnect()\n",
    "    return session_string\n",
    "\n",
    "# Only run this once to create the session\n",
    "await save_session()"
   ]
  },
  {
   "cell_type": "code",
   "execution_count": 86,
   "metadata": {},
   "outputs": [],
   "source": [
    "from telethon.tl.functions.channels import GetForumTopicsRequest\n",
    "from telethon.sessions import StringSession\n",
    "\n",
    "async def main(chat_name, limit, topic_id=None):\n",
    "    # Load existing session\n",
    "    try:\n",
    "        with open('session.txt', 'r') as f:\n",
    "            session_string = f.read()\n",
    "        client = TelegramClient(StringSession(session_string), api_id, api_hash)\n",
    "    except FileNotFoundError:\n",
    "        print(\"No saved session found, using memory session\")\n",
    "        client = TelegramClient(MemorySession(), api_id, api_hash)\n",
    "    \n",
    "    try:\n",
    "        print(\"Starting client...\")\n",
    "        await client.start()\n",
    "        \n",
    "        try:\n",
    "            print(f\"Attempting to connect to chat: {chat_name}\")\n",
    "            # Get chat info \n",
    "            chat_info = await client.get_entity(chat_name)\n",
    "            print(f\"Successfully connected to chat: {chat_info.title}\")\n",
    "            \n",
    "            # Get topic title if topic_id is provided\n",
    "            topic_title = None\n",
    "            if topic_id:\n",
    "                result = await client(GetForumTopicsRequest(\n",
    "                    channel=chat_info,\n",
    "                    offset_date=0,\n",
    "                    offset_id=0,\n",
    "                    offset_topic=0,\n",
    "                    limit=100\n",
    "                ))\n",
    "                topic_title = next((topic.title for topic in result.topics \n",
    "                                  if hasattr(topic, 'id') and topic.id == topic_id), \"Unknown Topic\")\n",
    "                print(f\"Fetching messages from topic: {topic_title} (ID: {topic_id})\")\n",
    "            \n",
    "            # Get all the messages from the specific topic\n",
    "            print(\"Fetching messages...\")\n",
    "            messages = await client.get_messages(\n",
    "                entity=chat_info, \n",
    "                limit=limit,\n",
    "                reply_to=topic_id\n",
    "            )\n",
    "            print(f\"Retrieved {len(messages)} messages\")\n",
    "            return {\n",
    "                \"messages\": messages, \n",
    "                \"channel\": chat_info,\n",
    "                \"topic_title\": topic_title\n",
    "            }\n",
    "            \n",
    "        except Exception as e:\n",
    "            print(f\"An error occurred: {str(e)}\")\n",
    "            return None\n",
    "            \n",
    "    finally:\n",
    "        print(\"Disconnecting client...\")\n",
    "        await client.disconnect()\n",
    "\n",
    "async def main_with_timeout(chat_name, limit, topic_id=None, timeout=120):\n",
    "    try:\n",
    "        result = await asyncio.wait_for(main(chat_name, limit, topic_id), timeout=timeout)\n",
    "        return result\n",
    "    except TimeoutError:\n",
    "        print(f\"Operation timed out after {timeout} seconds\")\n",
    "        return None"
   ]
  },
  {
   "cell_type": "code",
   "execution_count": 87,
   "metadata": {},
   "outputs": [
    {
     "name": "stdout",
     "output_type": "stream",
     "text": [
      "\n",
      "ID: 1115814 - Title: KOL FOMO\n",
      "ID: 1115806 - Title: Smart Money FOMO\n",
      "ID: 1 - Title: General\n",
      "ID: 1383119 - Title: Hall of Fame\n",
      "ID: 1152511 - Title: PUMP FDV Surge\n",
      "ID: 1152525 - Title: Solana FDV Surge\n",
      "ID: 1268284 - Title: Solana New Pool Alert\n",
      "ID: 1273756 - Title: Pump King of the hill（KOTH）\n",
      "ID: 1153178 - Title: Heavy Bought\n",
      "ID: 1152477 - Title: DEV Burnt Alert\n",
      "ID: 1272338 - Title: Pump Completed Alert\n",
      "ID: 1115976 - Title: ATH Price\n",
      "ID: 1436168 - Title: Pump DEV Activity\n",
      "ID: 1120024 - Title: Update DEX Screener Social\n",
      "ID: 1115997 - Title: Sniper New\n",
      "ID: 1116022 - Title: Pump Update DEX Screener Social\n",
      "ID: 1115926 - Title: CTO\n",
      "ID: 1272382 - Title: Sol Lp Burn\n",
      "ID: 1115948 - Title: Advertised on DEXScreener\n",
      "ID: 167118 - Title: Pump DEV Activity\n",
      "\n"
     ]
    }
   ],
   "source": [
    "print('''\n",
    "ID: 1115814 - Title: KOL FOMO\n",
    "ID: 1115806 - Title: Smart Money FOMO\n",
    "ID: 1 - Title: General\n",
    "ID: 1383119 - Title: Hall of Fame\n",
    "ID: 1152511 - Title: PUMP FDV Surge\n",
    "ID: 1152525 - Title: Solana FDV Surge\n",
    "ID: 1268284 - Title: Solana New Pool Alert\n",
    "ID: 1273756 - Title: Pump King of the hill（KOTH）\n",
    "ID: 1153178 - Title: Heavy Bought\n",
    "ID: 1152477 - Title: DEV Burnt Alert\n",
    "ID: 1272338 - Title: Pump Completed Alert\n",
    "ID: 1115976 - Title: ATH Price\n",
    "ID: 1436168 - Title: Pump DEV Activity\n",
    "ID: 1120024 - Title: Update DEX Screener Social\n",
    "ID: 1115997 - Title: Sniper New\n",
    "ID: 1116022 - Title: Pump Update DEX Screener Social\n",
    "ID: 1115926 - Title: CTO\n",
    "ID: 1272382 - Title: Sol Lp Burn\n",
    "ID: 1115948 - Title: Advertised on DEXScreener\n",
    "ID: 167118 - Title: Pump DEV Activity\n",
    "''')\n"
   ]
  },
  {
   "cell_type": "code",
   "execution_count": 94,
   "metadata": {},
   "outputs": [
    {
     "name": "stdout",
     "output_type": "stream",
     "text": [
      "Starting main function...\n",
      "Starting client...\n"
     ]
    },
    {
     "name": "stdout",
     "output_type": "stream",
     "text": [
      "Attempting to connect to chat: gmgnsignals\n",
      "Successfully connected to chat: GMGN Featured Signals - SOL\n",
      "Fetching messages from topic: ATH Price (ID: 1115976)\n",
      "Fetching messages...\n",
      "Retrieved 2 messages\n",
      "Disconnecting client...\n",
      "\n",
      "Messages from topic: ATH Price\n",
      "--------------------------------------------------\n",
      "Latest message: **💊ATH Price💊**\n",
      "\n",
      "**$Ghost**(save me)\n",
      "`8XDmh6RJToZi5w8aDf7ZC8f2QtxGGFUxY78aUDakpump`\n",
      "\n",
      "📈 5m | 1h | 6h: **19.79%** | **1604.2%** | **1604.2%**\n",
      "🎲 5m TXs/Vol: **396**/**$75.4K**\n",
      "💡 MCP: **$103.9K**\n",
      "💧 Liq: **79.01** **SOL** ($34K 🔥100%)\n",
      "👥 Holder: **285**\n",
      "🕒 Open: **2min** **ago**\n",
      "\n",
      "✅ NoMint / ✅Blacklist / ✅Burnt\n",
      "✅TOP 10: **23.92%**\n",
      "\n",
      "⏳ DEV: [1.76% HOLD](https://gmgn.ai/sol/address/Cm1xQByhCegsVKMYWsZZRbgSvgSNKm2D4e8i5U7bT6L8)\n",
      "👨‍🍳 DEV Burnt烧币: -\n",
      "\n",
      "Backup BOT: [US](https://t.me/US_GMGNBOT?start=8XDmh6RJToZi5w8aDf7ZC8f2QtxGGFUxY78aUDakpump) | [01](https://t.me/GMGN_sol_bot?start=8XDmh6RJToZi5w8aDf7ZC8f2QtxGGFUxY78aUDakpump) | [02](https://t.me/GMGN_sol02_bot?start=8XDmh6RJToZi5w8aDf7ZC8f2QtxGGFUxY78aUDakpump) | [03](https://t.me/GMGN_sol03_bot?start=8XDmh6RJToZi5w8aDf7ZC8f2QtxGGFUxY78aUDakpump) | [04](https://t.me/GMGN_sol04_bot?start=8XDmh6RJToZi5w8aDf7ZC8f2QtxGGFUxY78aUDakpump)\n",
      "\n",
      "🌈 **NEW:** Wallet Copy Trading is Live! [Click NOW](https://t.me/GMGN_sol02_bot)\n",
      "--------------------------------------------------\n"
     ]
    }
   ],
   "source": [
    "# Test the connection with a smaller limit first\n",
    "chat_name = \"gmgnsignals\"\n",
    "topic_id = 1115976  # This is the ID for ATH Price topic\n",
    "limit = 2\n",
    "\n",
    "print(\"Starting main function...\")\n",
    "result = await main_with_timeout(chat_name, limit, topic_id)\n",
    "if result and result[\"messages\"]:\n",
    "    print(f\"\\nMessages from topic: {result['topic_title']}\")\n",
    "    print(\"-\" * 50)\n",
    "    print(\"Latest message:\", result[\"messages\"][0].text)\n",
    "    print(\"-\" * 50)\n",
    "else:\n",
    "    print(\"No messages retrieved\")"
   ]
  },
  {
   "cell_type": "code",
   "execution_count": 92,
   "metadata": {},
   "outputs": [
    {
     "ename": "SyntaxError",
     "evalue": "incomplete input (3517003661.py, line 1)",
     "output_type": "error",
     "traceback": [
      "\u001b[0;36m  Cell \u001b[0;32mIn[92], line 1\u001b[0;36m\u001b[0m\n\u001b[0;31m    '''\u001b[0m\n\u001b[0m    ^\u001b[0m\n\u001b[0;31mSyntaxError\u001b[0m\u001b[0;31m:\u001b[0m incomplete input\n"
     ]
    }
   ],
   "source": [
    "from telethon.tl.types import Message, Channel, ForumTopicDeleted\n",
    "from telethon.tl.functions.channels import GetForumTopicsRequest\n",
    "from telethon.sessions import StringSession\n",
    "\n",
    "async def get_topics(chat_name):\n",
    "    # Load existing session\n",
    "    try:\n",
    "        with open('session.txt', 'r') as f:\n",
    "            session_string = f.read()\n",
    "        client = TelegramClient(StringSession(session_string), api_id, api_hash)\n",
    "    except FileNotFoundError:\n",
    "        print(\"No saved session found, using memory session\")\n",
    "        client = TelegramClient(MemorySession(), api_id, api_hash)\n",
    "    \n",
    "    try:\n",
    "        print(\"Starting client...\")\n",
    "        await client.start()\n",
    "        \n",
    "        try:\n",
    "            print(f\"Attempting to connect to chat: {chat_name}\")\n",
    "            chat = await client.get_entity(chat_name)\n",
    "            \n",
    "            if not isinstance(chat, Channel):\n",
    "                print(\"This is not a channel/group\")\n",
    "                return None\n",
    "                \n",
    "            print(\"Fetching topics...\")\n",
    "            result = await client(GetForumTopicsRequest(\n",
    "                channel=chat,\n",
    "                offset_date=0,\n",
    "                offset_id=0,\n",
    "                offset_topic=0,\n",
    "                limit=100\n",
    "            ))\n",
    "            \n",
    "            topics = []\n",
    "            for topic in result.topics:\n",
    "                # Skip deleted topics\n",
    "                if isinstance(topic, ForumTopicDeleted):\n",
    "                    continue\n",
    "                    \n",
    "                topic_data = {\n",
    "                    'id': topic.id,\n",
    "                    'title': topic.title if hasattr(topic, 'title') else 'Untitled',\n",
    "                    'top_message': topic.top_message if hasattr(topic, 'top_message') else None\n",
    "                }\n",
    "                topics.append(topic_data)\n",
    "            \n",
    "            print(f\"\\nFound {len(topics)} active topics:\")\n",
    "            for topic in topics:\n",
    "                print(f\"ID: {topic['id']} - Title: {topic['title']}\")\n",
    "            \n",
    "            return topics\n",
    "            \n",
    "        except Exception as e:\n",
    "            print(f\"An error occurred: {str(e)}\")\n",
    "            return None\n",
    "            \n",
    "    finally:\n",
    "        print(\"Disconnecting client...\")\n",
    "        await client.disconnect()\n",
    "\n",
    "# Use it like this:\n",
    "chat_name = \"gmgnsignals\"\n",
    "topics = await get_topics(chat_name)\n",
    "\n",
    "# Save topics to file if needed\n",
    "if topics:\n",
    "    with open('telegram_topics.json', 'w') as f:\n",
    "        json.dump(topics, f, indent=2)\n",
    "    print(\"\\nTopics saved to telegram_topics.json\")"
   ]
  },
  {
   "cell_type": "code",
   "execution_count": null,
   "metadata": {},
   "outputs": [],
   "source": []
  },
  {
   "cell_type": "code",
   "execution_count": null,
   "metadata": {},
   "outputs": [],
   "source": []
  }
 ],
 "metadata": {
  "kernelspec": {
   "display_name": "base",
   "language": "python",
   "name": "python3"
  },
  "language_info": {
   "codemirror_mode": {
    "name": "ipython",
    "version": 3
   },
   "file_extension": ".py",
   "mimetype": "text/x-python",
   "name": "python",
   "nbconvert_exporter": "python",
   "pygments_lexer": "ipython3",
   "version": "3.12.2"
  }
 },
 "nbformat": 4,
 "nbformat_minor": 2
}
